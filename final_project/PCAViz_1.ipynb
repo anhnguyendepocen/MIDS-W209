{
 "cells": [
  {
   "cell_type": "code",
   "execution_count": 2,
   "metadata": {
    "collapsed": false
   },
   "outputs": [],
   "source": [
    "from matplotlib import pyplot as plt\n",
    "from matplotlib import font_manager, patches, lines\n",
    "import pandas as pd\n",
    "import numpy as np\n",
    "%matplotlib inline"
   ]
  },
  {
   "cell_type": "code",
   "execution_count": 3,
   "metadata": {
    "collapsed": false
   },
   "outputs": [],
   "source": [
    "df = pd.read_csv('./data1.csv', index_col=0)"
   ]
  },
  {
   "cell_type": "code",
   "execution_count": 6,
   "metadata": {
    "collapsed": false
   },
   "outputs": [],
   "source": [
    "def make_patient_chart(obs_number):\n",
    "    fig = plt.figure(figsize=(16,8))\n",
    "    # define axes\n",
    "    ax_left = plt.subplot2grid((10,20), (2,0), rowspan=8, colspan=13)\n",
    "    ax_right = plt.subplot2grid((10,20), (2,14), rowspan=8, colspan=6)\n",
    "    ax_left_top = plt.subplot2grid((10,20), (0,4), rowspan=2, colspan=5)\n",
    "    ax_right_top = plt.subplot2grid((10,20), (0,14), rowspan=2, colspan=6)\n",
    "    # add data and format\n",
    "    add_PCA_to_axis(ax_left, ['PCA1','PCA2','PCA3','PCA4','PCA5'], obs_number)\n",
    "    add_delta_to_axis(ax_right, ['MD1','MD2','MD3','MD4','MD5'], obs_number)\n",
    "    format_axis(ax_left, -3, 3)\n",
    "    format_axis(ax_right, -.3,.3)\n",
    "    add_left_header(ax_left_top, 'gold', 'cornflowerblue')\n",
    "    add_right_header(ax_right_top, obs_number)\n",
    "    return fig\n",
    "    \n",
    "def add_PCA_to_axis(axis, list_of_PCAs, obs_number):\n",
    "    # get the data from the data frame, can probably use numpy to reduce overhead\n",
    "    all_data = [df[pca].values for pca in reversed(list_of_PCAs)]\n",
    "    person_data = [df[df['Obs']==obs_number][pca].values for pca in reversed(list_of_PCAs)]\n",
    "    color1 = 'gold'\n",
    "    color2 = 'cornflowerblue'\n",
    "    # create a set of properties to pass to the box-whisker plot.  for some reason, using 'boxprops=' \n",
    "    # ignores 'patch_artist=True', so the box properties are set later.\n",
    "    flier_props = dict(marker='o', markerfacecolor=color2, markersize=6, markeredgecolor='none')\n",
    "    whisker_props = dict(color='gray', linestyle='solid')\n",
    "    median_props = dict(linewidth=3, color='navy', solid_capstyle='butt')\n",
    "    \n",
    "    # create the b-w plot\n",
    "    box_plot_dict = axis.boxplot(all_data, sym='o', vert=False, whis=1.5, widths=.2, positions=np.arange(1,6),\n",
    "                                 patch_artist=True, flierprops=flier_props,\n",
    "                                 medianprops=median_props, whiskerprops=whisker_props)\n",
    "    # modify the box properties\n",
    "    for box in box_plot_dict['boxes']:\n",
    "        plt.setp(box, color=color2, linestyle=None, alpha=0.8, linewidth=0)\n",
    "    # add the individual's data to the plot\n",
    "    y_pos = np.arange(1.1,6.1)\n",
    "    #for per_dat in person_data:\n",
    "    axis.barh(left=None, width=person_data, bottom=y_pos, height=0.2, color=color1,\n",
    "              edgecolor=None, linewidth=0, hatch='//')\n",
    "    axis.yaxis.tick_left()\n",
    "    axis.set_yticks(np.arange(1,6))\n",
    "    #axis.set_yticklabels(reversed(list_of_PCAs))\n",
    "    \n",
    "def add_delta_to_axis(axis, list_of_deltas, obs_number):\n",
    "    y_pos = np.arange(0.9,5.9)\n",
    "    data = [df[df['Obs']==obs_number][delta].values for delta in reversed(list_of_deltas)]\n",
    "    axis.barh(left=None, width=data, bottom=y_pos, height=0.4, color='purple',\n",
    "              edgecolor=None, linewidth=0)\n",
    "    axis.yaxis.tick_right()\n",
    "    axis.set_yticks(np.arange(1,6))\n",
    "    #axis.set_yticklabels(reversed(list_of_deltas))\n",
    "    \n",
    "def format_axis(axis, xmin, xmax):\n",
    "    axis.set_frame_on(False)\n",
    "    axis.set_xlim(left=xmin, right=xmax)\n",
    "    axis.set_xticks(np.linspace(xmin, xmax, 7))\n",
    "    axis.xaxis.tick_top()\n",
    "    axis.set_ylim(0.5,5.6,auto=False)\n",
    "    axis.axvline(x=0, color='black')\n",
    "    axis.axhline(y=5.6, color='lightgray')\n",
    "    tick_font = font_manager.FontProperties(family=['Calibri'], style='normal', \n",
    "                                             size=12, weight='normal', stretch='normal')\n",
    "    for tick_label in axis.get_xticklabels():\n",
    "        tick_label.set_fontproperties(tick_font)\n",
    "    for tick_line in axis.yaxis.get_ticklines():\n",
    "        tick_line.set_color('none')\n",
    "\n",
    "def add_left_header(axis, color1, color2):\n",
    "    # add positions of the lower left corners of each color patch\n",
    "    x0 = -0.6\n",
    "    y0 = 0.65\n",
    "    x1 = -0.6\n",
    "    y1 = 0.35\n",
    "    dx = 0.36\n",
    "    dy = 0.15\n",
    "    axis.set_frame_on(False)\n",
    "    axis.set_xticks([])\n",
    "    axis.set_yticks([])\n",
    "    axis.set_xlim(-1, 1, auto=False)\n",
    "    axis.set_ylim(0, 1, auto=False)\n",
    "    outer_rect = patches.Rectangle(xy=(-1, 0.2), width=1.99, height=0.8, fill=False)\n",
    "    axis.add_patch(outer_rect)\n",
    "    legend_patches = [patches.Rectangle(xy=(x0, y0), width=dx, height=dy, \n",
    "                        facecolor=color1, edgecolor='black', hatch='//', linewidth=0),\n",
    "                      patches.Rectangle(xy=(x1, y1), width=dx, height=dy, facecolor=color2, linewidth=0)]\n",
    "    for p in legend_patches:\n",
    "        axis.add_patch(p)\n",
    "    w_dx = 0.06\n",
    "    axis.plot([x1, x1-w_dx],[y1+dy/2, y1+dy/2], 'k-')\n",
    "    axis.plot([x1-w_dx, x1-w_dx],[y1+dy/5, y1+4/5*dy], 'k-')\n",
    "    axis.plot([x1+dx, x1+dx+w_dx],[y1+dy/2, y1+dy/2], 'k-')\n",
    "    axis.plot([x1+dx+w_dx, x1+dx+w_dx],[y1+dy/5, y1+4/5*dy], 'k-')\n",
    "    axis.annotate(s='Patient', xy=(.1, y0+0.03), fontsize=12 )\n",
    "    axis.annotate(s='Population', xy=(.1, y1+0.03), fontsize=12 )\n",
    "    \n",
    "def add_right_header(axis, obs_number):\n",
    "    mortality = 100*df['MortalityProb'][df['Obs']==obs_number].values\n",
    "    axis.set_frame_on(False)\n",
    "    axis.set_xticks([])\n",
    "    axis.set_yticks([])\n",
    "    axis.set_xlim(-1, 1, auto=False)\n",
    "    axis.set_ylim(0, 1, auto=False)\n",
    "    outer_rect = patches.Rectangle(xy=(-.75, 0.2), width=1.5, height=0.8, fill=False)\n",
    "    axis.add_patch(outer_rect)\n",
    "    axis.annotate(s='Mortality Probability:', xy=(0, 0.7), fontsize=12, horizontalalignment='center')\n",
    "    mort_prob_string = '%.1f%%' %mortality\n",
    "    axis.annotate(s=mort_prob_string, xy=(0, 0.4), fontsize=24, horizontalalignment='center', color='red')"
   ]
  },
  {
   "cell_type": "code",
   "execution_count": 7,
   "metadata": {
    "collapsed": false,
    "scrolled": false
   },
   "outputs": [
    {
     "name": "stderr",
     "output_type": "stream",
     "text": [
      "/usr/local/lib/python2.7/site-packages/matplotlib/font_manager.py:1288: UserWarning: findfont: Font family [u'Calibri'] not found. Falling back to Bitstream Vera Sans\n",
      "  (prop.get_family(), self.defaultFamily[fontext]))\n"
     ]
    },
    {
     "data": {
      "image/png": "[encoded data removed]",
      "text/plain": [
       "<matplotlib.figure.Figure at 0x10aa1d3d0>"
      ]
     },
     "metadata": {},
     "output_type": "display_data"
    }
   ],
   "source": [
    "fig = make_patient_chart(obs_number=3)"
   ]
  },
  {
   "cell_type": "code",
   "execution_count": 10,
   "metadata": {
    "collapsed": false
   },
   "outputs": [],
   "source": [
    "fig.savefig('./pca.svg')"
   ]
  },
  {
   "cell_type": "code",
   "execution_count": null,
   "metadata": {
    "collapsed": true
   },
   "outputs": [],
   "source": [
    "fig."
   ]
  }
 ],
 "metadata": {
  "kernelspec": {
   "display_name": "Python 2",
   "language": "python",
   "name": "python2"
  },
  "language_info": {
   "codemirror_mode": {
    "name": "ipython",
    "version": 2
   },
   "file_extension": ".py",
   "mimetype": "text/x-python",
   "name": "python",
   "nbconvert_exporter": "python",
   "pygments_lexer": "ipython2",
   "version": "2.7.12"
  }
 },
 "nbformat": 4,
 "nbformat_minor": 0
}
